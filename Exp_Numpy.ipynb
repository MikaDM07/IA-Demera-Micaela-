{
  "nbformat": 4,
  "nbformat_minor": 0,
  "metadata": {
    "colab": {
      "provenance": [],
      "authorship_tag": "ABX9TyPt/Ntb0pkIRfq2DlAJREof",
      "include_colab_link": true
    },
    "kernelspec": {
      "name": "python3",
      "display_name": "Python 3"
    },
    "language_info": {
      "name": "python"
    }
  },
  "cells": [
    {
      "cell_type": "markdown",
      "metadata": {
        "id": "view-in-github",
        "colab_type": "text"
      },
      "source": [
        "<a href=\"https://colab.research.google.com/github/MikaDM07/IA-Demera-Micaela-/blob/main/Exp_Numpy.ipynb\" target=\"_parent\"><img src=\"https://colab.research.google.com/assets/colab-badge.svg\" alt=\"Open In Colab\"/></a>"
      ]
    },
    {
      "cell_type": "code",
      "execution_count": 1,
      "metadata": {
        "id": "ryteNxvbTFjk"
      },
      "outputs": [],
      "source": [
        "import numpy as np"
      ]
    },
    {
      "cell_type": "code",
      "source": [
        "import numpy as np\n",
        "\n",
        "# Check the NumPy version\n",
        "print(np.__version__)"
      ],
      "metadata": {
        "colab": {
          "base_uri": "https://localhost:8080/"
        },
        "id": "KKUNnPgbTVV3",
        "outputId": "e7cad861-0106-4b55-98c2-b5cb25e0cdcf"
      },
      "execution_count": 2,
      "outputs": [
        {
          "output_type": "stream",
          "name": "stdout",
          "text": [
            "1.23.5\n"
          ]
        }
      ]
    },
    {
      "cell_type": "code",
      "source": [
        "# Create a 1D array of numbers from 0 to 9\n",
        "array_1d = np.arange(10)\n",
        "\n",
        "print(array_1d)"
      ],
      "metadata": {
        "colab": {
          "base_uri": "https://localhost:8080/"
        },
        "id": "mtyx7YUJTZ2L",
        "outputId": "dcef1955-5227-4fbf-d4ef-baa1e39c7346"
      },
      "execution_count": 3,
      "outputs": [
        {
          "output_type": "stream",
          "name": "stdout",
          "text": [
            "[0 1 2 3 4 5 6 7 8 9]\n"
          ]
        }
      ]
    },
    {
      "cell_type": "code",
      "source": [
        "# Create a random vector of size 10\n",
        "random_vector = np.random.rand(10)\n",
        "\n",
        "# Find the index of the maximum value in the vector\n",
        "max_index = np.argmax(random_vector)\n",
        "\n",
        "# Replace the maximum value with 0\n",
        "random_vector[max_index] = 0\n",
        "\n",
        "print(\"Random vector with the maximum value replaced by 0:\")\n",
        "print(random_vector)"
      ],
      "metadata": {
        "colab": {
          "base_uri": "https://localhost:8080/"
        },
        "id": "8IIl-JJiTfb6",
        "outputId": "36f3ddae-9dec-4ae8-ab53-d692ee72fcd0"
      },
      "execution_count": 4,
      "outputs": [
        {
          "output_type": "stream",
          "name": "stdout",
          "text": [
            "Random vector with the maximum value replaced by 0:\n",
            "[0.53662638 0.16470707 0.92330781 0.51229366 0.         0.89886815\n",
            " 0.57657801 0.03591234 0.17279199 0.58478381]\n"
          ]
        }
      ]
    },
    {
      "cell_type": "code",
      "source": [
        "arr = np.array([[1, 2, 3, 4, 5], [6, 7, 8, 9, 10]])\n",
        "\n",
        "# To print the number 8\n",
        "number_to_find = 8\n",
        "\n",
        "indices = np.where(arr == number_to_find)\n",
        "\n",
        "print(\"Indices of the number 8:\")\n",
        "print(indices)\n",
        "\n",
        "found_value = arr[indices]\n",
        "print(\"The number 8 is at position:\", indices[0], indices[1])\n",
        "print(\"Value at that position:\", found_value)"
      ],
      "metadata": {
        "colab": {
          "base_uri": "https://localhost:8080/"
        },
        "id": "HCrp2sYVTiXs",
        "outputId": "d5dedd90-7cdf-40fa-f2b2-f17f8620f833"
      },
      "execution_count": 5,
      "outputs": [
        {
          "output_type": "stream",
          "name": "stdout",
          "text": [
            "Indices of the number 8:\n",
            "(array([1]), array([2]))\n",
            "The number 8 is at position: [1] [2]\n",
            "Value at that position: [8]\n"
          ]
        }
      ]
    },
    {
      "cell_type": "code",
      "source": [
        "arr = np.array([1, 2, 3, 4, 5, 6, 7])\n",
        "\n",
        "# Use slicing to extract the numbers [3, 4, 5]\n",
        "subset = arr[2:5]\n",
        "\n",
        "print(\"The numbers [3, 4, 5] from the array:\")\n",
        "print(subset)\n",
        ""
      ],
      "metadata": {
        "colab": {
          "base_uri": "https://localhost:8080/"
        },
        "id": "n-2-61_ATmUI",
        "outputId": "81e91bf7-250a-4493-dea9-14afca3a3043"
      },
      "execution_count": 6,
      "outputs": [
        {
          "output_type": "stream",
          "name": "stdout",
          "text": [
            "The numbers [3, 4, 5] from the array:\n",
            "[3 4 5]\n"
          ]
        }
      ]
    },
    {
      "cell_type": "code",
      "source": [
        "arr = np.array([1, 2, 3, 4, 5, 6, 7])\n",
        "\n",
        "# Use slicing to extract the last 4 numbers\n",
        "a = arr[-4:]\n",
        "\n",
        "print(\"The last 4 numbers from the array:\")\n",
        "print(a)"
      ],
      "metadata": {
        "colab": {
          "base_uri": "https://localhost:8080/"
        },
        "id": "rgfKJSSETpFO",
        "outputId": "e776490a-8a5a-4891-ac9d-096594437b17"
      },
      "execution_count": 7,
      "outputs": [
        {
          "output_type": "stream",
          "name": "stdout",
          "text": [
            "The last 4 numbers from the array:\n",
            "[4 5 6 7]\n"
          ]
        }
      ]
    },
    {
      "cell_type": "code",
      "source": [
        "t = np.ones((2, 2), dtype=bool)\n",
        "\n",
        "print(t)"
      ],
      "metadata": {
        "colab": {
          "base_uri": "https://localhost:8080/"
        },
        "id": "vo0nCUXBTsbN",
        "outputId": "fb673a0f-c1fb-4b87-e670-faa707345487"
      },
      "execution_count": 8,
      "outputs": [
        {
          "output_type": "stream",
          "name": "stdout",
          "text": [
            "[[ True  True]\n",
            " [ True  True]]\n"
          ]
        }
      ]
    },
    {
      "cell_type": "code",
      "source": [
        "arr = np.array([1, 2, 3, 4, 5, 6, 7, 8, 9])\n",
        "\n",
        "# Use boolean indexing to extract odd numbers\n",
        "odd_numbers = arr[arr % 2 == 1]\n",
        "\n",
        "print(\"Odd numbers from the array:\")\n",
        "print(odd_numbers)"
      ],
      "metadata": {
        "colab": {
          "base_uri": "https://localhost:8080/"
        },
        "id": "kI6f0cv4TvO5",
        "outputId": "f9efbd3c-216c-4ed8-9658-a66995d7ae09"
      },
      "execution_count": 9,
      "outputs": [
        {
          "output_type": "stream",
          "name": "stdout",
          "text": [
            "Odd numbers from the array:\n",
            "[1 3 5 7 9]\n"
          ]
        }
      ]
    },
    {
      "cell_type": "code",
      "source": [
        "vector = np.arange(10, 50)\n",
        "\n",
        "print(vector)"
      ],
      "metadata": {
        "colab": {
          "base_uri": "https://localhost:8080/"
        },
        "id": "wmNKXq0bTx-9",
        "outputId": "b1275242-0e70-4de0-b098-7e5bacff539d"
      },
      "execution_count": 10,
      "outputs": [
        {
          "output_type": "stream",
          "name": "stdout",
          "text": [
            "[10 11 12 13 14 15 16 17 18 19 20 21 22 23 24 25 26 27 28 29 30 31 32 33\n",
            " 34 35 36 37 38 39 40 41 42 43 44 45 46 47 48 49]\n"
          ]
        }
      ]
    },
    {
      "cell_type": "code",
      "source": [
        "vector = np.arange(10, 50)\n",
        "\n",
        "# Reverse the vector\n",
        "reversed_vector = vector[::-1]\n",
        "\n",
        "print(reversed_vector)"
      ],
      "metadata": {
        "colab": {
          "base_uri": "https://localhost:8080/"
        },
        "id": "jjrXJUqrT0Hr",
        "outputId": "547261d1-e9c6-4124-e790-3fae754416d8"
      },
      "execution_count": 11,
      "outputs": [
        {
          "output_type": "stream",
          "name": "stdout",
          "text": [
            "[49 48 47 46 45 44 43 42 41 40 39 38 37 36 35 34 33 32 31 30 29 28 27 26\n",
            " 25 24 23 22 21 20 19 18 17 16 15 14 13 12 11 10]\n"
          ]
        }
      ]
    },
    {
      "cell_type": "code",
      "source": [
        "random_array = np.random.randint(0, 101, size=(10, 10))\n",
        "\n",
        "# Find the minimum and maximum values\n",
        "min_value = np.min(random_array)\n",
        "max_value = np.max(random_array)\n",
        "\n",
        "print(\"Random Array:\")\n",
        "print(random_array)\n",
        "print(\"Minimum Value:\", min_value)\n",
        "print(\"Maximum Value:\", max_value)"
      ],
      "metadata": {
        "colab": {
          "base_uri": "https://localhost:8080/"
        },
        "id": "O9932dzaT4dc",
        "outputId": "18617ba8-5fe2-41f3-f022-923fc96ec599"
      },
      "execution_count": 12,
      "outputs": [
        {
          "output_type": "stream",
          "name": "stdout",
          "text": [
            "Random Array:\n",
            "[[ 14  87  63  99  86  28  47  23 100  61]\n",
            " [ 98  27  57  83  61  33  29  14  62  22]\n",
            " [  6  74   5  89  34  92  81  22   6  27]\n",
            " [ 51   0  24  59  68  23   4  95  93  31]\n",
            " [ 95  89  92  45  82  60  29  19   1  84]\n",
            " [ 25  76  55  33  71  99  79  91   6   4]\n",
            " [100  70  41  85  90  15  34  67  23  93]\n",
            " [ 94  27   0  60  32  49  13  96  18  41]\n",
            " [ 97  49   2  96   4  71  92  40  50  63]\n",
            " [ 59  96  42  42  21  17  42  69  95  95]]\n",
            "Minimum Value: 0\n",
            "Maximum Value: 100\n"
          ]
        }
      ]
    },
    {
      "cell_type": "code",
      "source": [
        "randon = np.random.rand(3, 3, 3)\n",
        "\n",
        "print(randon)"
      ],
      "metadata": {
        "colab": {
          "base_uri": "https://localhost:8080/"
        },
        "id": "txvrRB9MT8Gk",
        "outputId": "714dd9b8-f981-4493-a8fd-74fb4c08f520"
      },
      "execution_count": 13,
      "outputs": [
        {
          "output_type": "stream",
          "name": "stdout",
          "text": [
            "[[[0.97386094 0.0036188  0.98105086]\n",
            "  [0.81955929 0.91218075 0.02802072]\n",
            "  [0.3027305  0.82489853 0.32792285]]\n",
            "\n",
            " [[0.67078717 0.09855695 0.75833483]\n",
            "  [0.86871525 0.73067898 0.73607835]\n",
            "  [0.27214216 0.1788734  0.55661589]]\n",
            "\n",
            " [[0.56089263 0.03345897 0.92026307]\n",
            "  [0.69565535 0.29294524 0.81516577]\n",
            "  [0.6998696  0.15794962 0.49835295]]]\n"
          ]
        }
      ]
    },
    {
      "cell_type": "code",
      "source": [
        "import numpy as np\n",
        "\n",
        "# Create or define your NumPy array (arr)\n",
        "arr = np.array([1, 2, 3, 4, 5, 6, 7, 8, 9])\n",
        "\n",
        "# Use boolean indexing to replace odd numbers with -1\n",
        "arr[arr % 2 == 1] = -1\n",
        "\n",
        "print(\"Modified array with odd numbers replaced by -1:\")\n",
        "print(arr)\n"
      ],
      "metadata": {
        "colab": {
          "base_uri": "https://localhost:8080/"
        },
        "id": "XKK4v2xWUA1w",
        "outputId": "e57410b7-8d2e-49c0-927b-609adb026b0a"
      },
      "execution_count": 14,
      "outputs": [
        {
          "output_type": "stream",
          "name": "stdout",
          "text": [
            "Modified array with odd numbers replaced by -1:\n",
            "[-1  2 -1  4 -1  6 -1  8 -1]\n"
          ]
        }
      ]
    },
    {
      "cell_type": "code",
      "source": [
        "float_array = np.array([1.3, 2.5, 3.7, 4.2])\n",
        "\n",
        "print(float_array)"
      ],
      "metadata": {
        "colab": {
          "base_uri": "https://localhost:8080/"
        },
        "id": "X7QdvaVyUFMS",
        "outputId": "ee97742d-6e36-48e9-fbe6-e792319cf33f"
      },
      "execution_count": 15,
      "outputs": [
        {
          "output_type": "stream",
          "name": "stdout",
          "text": [
            "[1.3 2.5 3.7 4.2]\n"
          ]
        }
      ]
    },
    {
      "cell_type": "code",
      "source": [
        "arr_1d = np.array([1, 2, 3, 4, 5, 6, 7, 8])\n",
        "\n",
        "# Reshape the 1D array into a 2D array with 2 rows\n",
        "arr_2d = arr_1d.reshape(2, -1)\n",
        "\n",
        "print(\"1D Array:\")\n",
        "print(arr_1d)\n",
        "\n",
        "print(\"2D Array with 2 rows:\")\n",
        "print(arr_2d)"
      ],
      "metadata": {
        "colab": {
          "base_uri": "https://localhost:8080/"
        },
        "id": "0Dzh3dAxUIKL",
        "outputId": "b4b8a1a7-4a31-4faa-c450-3d6b7c87cace"
      },
      "execution_count": 16,
      "outputs": [
        {
          "output_type": "stream",
          "name": "stdout",
          "text": [
            "1D Array:\n",
            "[1 2 3 4 5 6 7 8]\n",
            "2D Array with 2 rows:\n",
            "[[1 2 3 4]\n",
            " [5 6 7 8]]\n"
          ]
        }
      ]
    },
    {
      "cell_type": "code",
      "source": [
        "Z1 = np.random.randint(0, 10, 10)\n",
        "Z2 = np.random.randint(0, 10, 10)\n",
        "\n",
        "# Find the common values between Z1 and Z2\n",
        "common_values = np.intersect1d(Z1, Z2)\n",
        "\n",
        "print(\"Array Z1:\", Z1)\n",
        "print(\"Array Z2:\", Z2)\n",
        "print(\"Common values:\", common_values)\n"
      ],
      "metadata": {
        "colab": {
          "base_uri": "https://localhost:8080/"
        },
        "id": "Us3lrHdUUKez",
        "outputId": "de8181e3-1633-4b9a-f99a-52264a60f263"
      },
      "execution_count": 17,
      "outputs": [
        {
          "output_type": "stream",
          "name": "stdout",
          "text": [
            "Array Z1: [1 3 0 5 5 4 8 2 3 3]\n",
            "Array Z2: [9 8 7 8 3 5 0 4 3 2]\n",
            "Common values: [0 2 3 4 5 8]\n"
          ]
        }
      ]
    },
    {
      "cell_type": "code",
      "source": [
        "A = np.random.randint(0, 2, 5)\n",
        "B = np.random.randint(0, 2, 5)\n",
        "\n",
        "# Check if A and B are equal\n",
        "are_equal = np.array_equal(A, B)\n",
        "\n",
        "print(\"Array A:\", A)\n",
        "print(\"Array B:\", B)\n",
        "print(\"Are A and B equal?\", are_equal)"
      ],
      "metadata": {
        "colab": {
          "base_uri": "https://localhost:8080/"
        },
        "id": "7yiaD5OuUNJc",
        "outputId": "3d2ee9c7-10a7-45fe-e920-1475d87ddb8b"
      },
      "execution_count": 18,
      "outputs": [
        {
          "output_type": "stream",
          "name": "stdout",
          "text": [
            "Array A: [0 1 1 0 1]\n",
            "Array B: [1 0 0 0 0]\n",
            "Are A and B equal? False\n"
          ]
        }
      ]
    },
    {
      "cell_type": "code",
      "source": [
        "a = np.array([0, 2, 5])\n",
        "b = np.array([0, 2, 5])\n",
        "\n",
        "# Stack arrays a and b vertically\n",
        "stacked_array = np.vstack((a, b))\n",
        "\n",
        "print(\"Array a:\")\n",
        "print(a)\n",
        "\n",
        "print(\"Array b:\")\n",
        "print(b)\n",
        "\n",
        "print(\"Stacked array (vertically):\")\n",
        "print(stacked_array)"
      ],
      "metadata": {
        "colab": {
          "base_uri": "https://localhost:8080/"
        },
        "id": "dcq8NpjHUSat",
        "outputId": "b1a0df5f-b91a-4418-88a4-39b274a41af2"
      },
      "execution_count": 19,
      "outputs": [
        {
          "output_type": "stream",
          "name": "stdout",
          "text": [
            "Array a:\n",
            "[0 2 5]\n",
            "Array b:\n",
            "[0 2 5]\n",
            "Stacked array (vertically):\n",
            "[[0 2 5]\n",
            " [0 2 5]]\n"
          ]
        }
      ]
    },
    {
      "cell_type": "code",
      "source": [
        "a = np.array([0, 2, 5])\n",
        "b = np.array([0, 2, 5])\n",
        "\n",
        "# Stack arrays a and b horizontally\n",
        "stacked_array = np.hstack((a, b))\n",
        "\n",
        "print(\"Array a:\")\n",
        "print(a)\n",
        "\n",
        "print(\"Array b:\")\n",
        "print(b)\n",
        "\n",
        "print(\"Stacked array (horizontally):\")\n",
        "print(stacked_array)"
      ],
      "metadata": {
        "colab": {
          "base_uri": "https://localhost:8080/"
        },
        "id": "NZ_waOzNUX9F",
        "outputId": "feb5f2c3-272a-49f1-ea7d-f21136fe8055"
      },
      "execution_count": 20,
      "outputs": [
        {
          "output_type": "stream",
          "name": "stdout",
          "text": [
            "Array a:\n",
            "[0 2 5]\n",
            "Array b:\n",
            "[0 2 5]\n",
            "Stacked array (horizontally):\n",
            "[0 2 5 0 2 5]\n"
          ]
        }
      ]
    },
    {
      "cell_type": "code",
      "source": [
        "tmp = np.arange(15)\n",
        "\n",
        "# Create a boolean mask to identify elements between 5 and 10\n",
        "mask = (tmp >= 5) & (tmp <= 10)\n",
        "\n",
        "# Use the boolean mask to extract elements between 5 and 10\n",
        "result = tmp[mask]\n",
        "\n",
        "print(\"Array tmp:\")\n",
        "print(tmp)\n",
        "\n",
        "print(\"Items between 5 and 10:\")\n",
        "print(result)"
      ],
      "metadata": {
        "colab": {
          "base_uri": "https://localhost:8080/"
        },
        "id": "kLsNSGvGUbYN",
        "outputId": "8e3c9fda-2948-4f53-ce21-691020dfb7bb"
      },
      "execution_count": 21,
      "outputs": [
        {
          "output_type": "stream",
          "name": "stdout",
          "text": [
            "Array tmp:\n",
            "[ 0  1  2  3  4  5  6  7  8  9 10 11 12 13 14]\n",
            "Items between 5 and 10:\n",
            "[ 5  6  7  8  9 10]\n"
          ]
        }
      ]
    },
    {
      "cell_type": "code",
      "source": [
        "def pair_max(a, b):\n",
        "    \"\"\"Get the element-wise maximum of two arrays a and b.\"\"\"\n",
        "    return np.maximum(a, b)\n",
        "\n",
        "a = np.array([5, 7, 9, 8, 6, 4, 5])\n",
        "b = np.array([6, 3, 4, 8, 9, 7, 1])\n",
        "\n",
        "result = pair_max(a, b)\n",
        "print(result)"
      ],
      "metadata": {
        "colab": {
          "base_uri": "https://localhost:8080/"
        },
        "id": "yy4mun8AUeXO",
        "outputId": "866703d6-99d5-4e75-f873-91e1e3a76e7c"
      },
      "execution_count": 22,
      "outputs": [
        {
          "output_type": "stream",
          "name": "stdout",
          "text": [
            "[6 7 9 8 9 7 5]\n"
          ]
        }
      ]
    },
    {
      "cell_type": "code",
      "source": [
        "arr = np.arange(9).reshape(3, 3)\n",
        "print(\"Original array:\")\n",
        "print(arr)\n",
        "\n",
        "# Swap columns 1 and 2\n",
        "arr[:, [1, 2]] = arr[:, [2, 1]]\n",
        "\n",
        "print(\"Array after swapping columns 1 and 2:\")\n",
        "print(arr)"
      ],
      "metadata": {
        "colab": {
          "base_uri": "https://localhost:8080/"
        },
        "id": "02i1Llv4UiPe",
        "outputId": "020014bb-f169-459c-fe04-b985c1aa954d"
      },
      "execution_count": 23,
      "outputs": [
        {
          "output_type": "stream",
          "name": "stdout",
          "text": [
            "Original array:\n",
            "[[0 1 2]\n",
            " [3 4 5]\n",
            " [6 7 8]]\n",
            "Array after swapping columns 1 and 2:\n",
            "[[0 2 1]\n",
            " [3 5 4]\n",
            " [6 8 7]]\n"
          ]
        }
      ]
    },
    {
      "cell_type": "code",
      "source": [
        "random_array = np.random.uniform(5, 10, size=(5, 3))\n",
        "\n",
        "print(random_array)\n"
      ],
      "metadata": {
        "colab": {
          "base_uri": "https://localhost:8080/"
        },
        "id": "qL2gnBmzUlch",
        "outputId": "4d6e59fc-1286-40bd-baab-64ffb1f36241"
      },
      "execution_count": 24,
      "outputs": [
        {
          "output_type": "stream",
          "name": "stdout",
          "text": [
            "[[5.37511051 8.96000475 6.21229261]\n",
            " [6.07196462 6.75030473 6.83925109]\n",
            " [8.99998811 7.86538424 9.52679216]\n",
            " [8.25794409 8.68301208 8.70655589]\n",
            " [7.49942824 7.90136627 7.90033412]]\n"
          ]
        }
      ]
    }
  ]
}