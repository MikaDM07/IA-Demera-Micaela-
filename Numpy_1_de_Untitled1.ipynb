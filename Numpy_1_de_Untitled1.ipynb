{
  "nbformat": 4,
  "nbformat_minor": 0,
  "metadata": {
    "colab": {
      "provenance": [],
      "authorship_tag": "ABX9TyPsnHWCNVlGzL2yXgL2aQ3u",
      "include_colab_link": true
    },
    "kernelspec": {
      "name": "python3",
      "display_name": "Python 3"
    },
    "language_info": {
      "name": "python"
    }
  },
  "cells": [
    {
      "cell_type": "markdown",
      "metadata": {
        "id": "view-in-github",
        "colab_type": "text"
      },
      "source": [
        "<a href=\"https://colab.research.google.com/github/MikaDM07/IA-Demera-Micaela-/blob/main/Numpy_1_de_Untitled1.ipynb\" target=\"_parent\"><img src=\"https://colab.research.google.com/assets/colab-badge.svg\" alt=\"Open In Colab\"/></a>"
      ]
    },
    {
      "cell_type": "code",
      "source": [],
      "metadata": {
        "id": "tDkayGsaxz9d"
      },
      "execution_count": 1,
      "outputs": []
    },
    {
      "cell_type": "code",
      "execution_count": 2,
      "metadata": {
        "colab": {
          "base_uri": "https://localhost:8080/"
        },
        "id": "nXARxF3mOi-J",
        "outputId": "585c88c9-7ac6-43c2-80f0-aad0d4566297"
      },
      "outputs": [
        {
          "output_type": "stream",
          "name": "stdout",
          "text": [
            "[1 2 4 5]\n",
            "(4,)\n",
            "(2, 4)\n",
            "[[1 2 3 4]\n",
            " [1 2 3 4]]\n",
            "<class 'numpy.ndarray'>\n",
            "[[5 5 5 5]\n",
            " [5 5 5 5]\n",
            " [5 5 5 5]\n",
            " [5 5 5 5]]\n",
            "[[1. 0. 0. 0.]\n",
            " [0. 1. 0. 0.]\n",
            " [0. 0. 1. 0.]\n",
            " [0. 0. 0. 1.]]\n",
            "..........\n",
            "[[1. 1. 1. 1.]\n",
            " [1. 1. 1. 1.]\n",
            " [1. 1. 1. 1.]\n",
            " [1. 1. 1. 1.]]\n"
          ]
        }
      ],
      "source": [
        "import numpy as np\n",
        "aux=np.array ([1,2,4,5])\n",
        "print(aux)\n",
        "print(aux.shape)\n",
        "\n",
        "\n",
        "aux=np.array([[1,2,3,4],[1,2,3,4,]])\n",
        "print (aux.shape)\n",
        "print(aux)\n",
        "print(type(aux))\n",
        "\n",
        "\n",
        "tmp=np.full((4,4),5)\n",
        "print(tmp)\n",
        "\n",
        "\n",
        "tmp=np.eye(4,4)\n",
        "print(tmp)\n",
        "\n",
        "print('..........')\n",
        "tmp=np.ones((4,4))\n",
        "print(tmp)\n"
      ]
    },
    {
      "cell_type": "code",
      "source": [
        "tmp=10*np.random.random((3,3))\n",
        "print(tmp)"
      ],
      "metadata": {
        "colab": {
          "base_uri": "https://localhost:8080/"
        },
        "id": "Qg3zhOSfOwVX",
        "outputId": "f2576603-8766-4f35-aba4-ac6c14a1b049"
      },
      "execution_count": 3,
      "outputs": [
        {
          "output_type": "stream",
          "name": "stdout",
          "text": [
            "[[2.88877176 2.99654206 1.97654286]\n",
            " [5.51783586 3.34235571 6.06203982]\n",
            " [0.24360734 5.35380247 7.83477765]]\n"
          ]
        }
      ]
    },
    {
      "cell_type": "code",
      "source": [
        "print(tmp[:2,:2])"
      ],
      "metadata": {
        "colab": {
          "base_uri": "https://localhost:8080/"
        },
        "id": "pYWkBc_kShpV",
        "outputId": "91955e9c-e9e1-4740-d7f6-d7d05792b9a5"
      },
      "execution_count": 4,
      "outputs": [
        {
          "output_type": "stream",
          "name": "stdout",
          "text": [
            "[[2.88877176 2.99654206]\n",
            " [5.51783586 3.34235571]]\n"
          ]
        }
      ]
    },
    {
      "cell_type": "code",
      "source": [
        "print(tmp[:2,1:3])"
      ],
      "metadata": {
        "colab": {
          "base_uri": "https://localhost:8080/"
        },
        "id": "-97mLwy8TE33",
        "outputId": "bf6c936d-ef4c-45b2-9712-d169e49ff26d"
      },
      "execution_count": 5,
      "outputs": [
        {
          "output_type": "stream",
          "name": "stdout",
          "text": [
            "[[2.99654206 1.97654286]\n",
            " [3.34235571 6.06203982]]\n"
          ]
        }
      ]
    },
    {
      "cell_type": "code",
      "source": [
        "print(tmp[:1,1])\n",
        "print(tmp[2,2])\n",
        "print(tmp[2,1:3])"
      ],
      "metadata": {
        "colab": {
          "base_uri": "https://localhost:8080/"
        },
        "id": "gWpl33ZqTWFF",
        "outputId": "989dd490-d4b8-44e1-89da-63741a87c674"
      },
      "execution_count": 9,
      "outputs": [
        {
          "output_type": "stream",
          "name": "stdout",
          "text": [
            "[4.44963462]\n",
            "9.812163870194912\n",
            "[2.62361702 9.81216387]\n"
          ]
        }
      ]
    },
    {
      "cell_type": "code",
      "source": [
        "tmp=10*np.random.random((3,3))\n",
        "print(tmp)"
      ],
      "metadata": {
        "id": "UlzIilm1UDMU",
        "colab": {
          "base_uri": "https://localhost:8080/"
        },
        "outputId": "f43a5a8e-91b7-44c8-9474-965635de8603"
      },
      "execution_count": 17,
      "outputs": [
        {
          "output_type": "stream",
          "name": "stdout",
          "text": [
            "[[1.29828215 1.64566023 4.96404741]\n",
            " [9.83819764 5.09457894 6.14138096]\n",
            " [6.18030616 7.92043885 8.77966267]]\n"
          ]
        }
      ]
    },
    {
      "cell_type": "code",
      "source": [
        "mask=(tmp>=2)&(tmp<=4)\n"
      ],
      "metadata": {
        "id": "LcIElsDs4xJa"
      },
      "execution_count": 22,
      "outputs": []
    },
    {
      "cell_type": "code",
      "source": [
        "mask=tmp>5\n",
        "print(tmp[mask])"
      ],
      "metadata": {
        "colab": {
          "base_uri": "https://localhost:8080/"
        },
        "id": "nQ6Exs7nUlW_",
        "outputId": "9fd11bb8-f663-4aa8-ddb4-6d39b817a7be"
      },
      "execution_count": 20,
      "outputs": [
        {
          "output_type": "stream",
          "name": "stdout",
          "text": [
            "[9.83819764 5.09457894 6.14138096 6.18030616 7.92043885 8.77966267]\n"
          ]
        }
      ]
    },
    {
      "cell_type": "code",
      "source": [
        "tmp= np.random.randint(1, 101, (4, 4))\n",
        "print(tmp)\n",
        "mask =np.mod(tmp, 2) == 0\n",
        "matriz_pares = tmp[mask]\n",
        "print(tmp[mask])\n",
        ""
      ],
      "metadata": {
        "colab": {
          "base_uri": "https://localhost:8080/"
        },
        "id": "GOYGhOb05ZpA",
        "outputId": "a008da6e-a4e8-40a2-f747-84127ab3fc15"
      },
      "execution_count": 21,
      "outputs": [
        {
          "output_type": "stream",
          "name": "stdout",
          "text": [
            "[[53 44 31 53]\n",
            " [82 47 34 27]\n",
            " [26 43 60 28]\n",
            " [87 18  6 18]]\n",
            "[44 82 34 26 60 28 18  6 18]\n"
          ]
        }
      ]
    }
  ]
}