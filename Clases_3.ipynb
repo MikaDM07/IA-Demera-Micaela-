{
  "nbformat": 4,
  "nbformat_minor": 0,
  "metadata": {
    "colab": {
      "provenance": [],
      "toc_visible": true,
      "authorship_tag": "ABX9TyMr9009dulPrLbfookSxYqF",
      "include_colab_link": true
    },
    "kernelspec": {
      "name": "python3",
      "display_name": "Python 3"
    },
    "language_info": {
      "name": "python"
    }
  },
  "cells": [
    {
      "cell_type": "markdown",
      "metadata": {
        "id": "view-in-github",
        "colab_type": "text"
      },
      "source": [
        "<a href=\"https://colab.research.google.com/github/MikaDM07/IA-Demera-Micaela-/blob/main/Clases_3.ipynb\" target=\"_parent\"><img src=\"https://colab.research.google.com/assets/colab-badge.svg\" alt=\"Open In Colab\"/></a>"
      ]
    },
    {
      "cell_type": "code",
      "source": [
        "import numpy as np\n",
        "\n",
        "# Create an array with random values between 1 and 10\n",
        "a = np.random.randint(1, 11, size=(3, 4))\n",
        "b = np.random.randint(1, 11, size=(3, 4))\n",
        "\n",
        "# Print the random array\n",
        "print(a)\n",
        "print(b)\n",
        "print(a.shape)\n",
        "print(b.shape)\n",
        "print('adding numbers')\n",
        "print(a+b)\n",
        "print('substracting numbers')\n",
        "print(a-b)\n",
        "\n",
        "print(np.add(a,b))\n",
        "print(np.multiply(a,b))\n",
        "print(np.divide(a,b))\n",
        "\n",
        "print"
      ],
      "metadata": {
        "colab": {
          "base_uri": "https://localhost:8080/"
        },
        "id": "XcTATHTa6D7s",
        "outputId": "bc6e5ab1-23f4-4b86-ce68-a0a64e87ea0b"
      },
      "execution_count": 6,
      "outputs": [
        {
          "output_type": "stream",
          "name": "stdout",
          "text": [
            "[[ 3 10  1 10]\n",
            " [ 4 10  6  3]\n",
            " [ 9  9 10 10]]\n",
            "[[ 4  8  6  8]\n",
            " [ 8  9 10  2]\n",
            " [ 6  4  3  3]]\n",
            "(3, 4)\n",
            "(3, 4)\n",
            "adding numbers\n",
            "[[ 7 18  7 18]\n",
            " [12 19 16  5]\n",
            " [15 13 13 13]]\n",
            "substracting numbers\n",
            "[[-1  2 -5  2]\n",
            " [-4  1 -4  1]\n",
            " [ 3  5  7  7]]\n",
            "[[ 7 18  7 18]\n",
            " [12 19 16  5]\n",
            " [15 13 13 13]]\n",
            "[[12 80  6 80]\n",
            " [32 90 60  6]\n",
            " [54 36 30 30]]\n",
            "[[0.75       1.25       0.16666667 1.25      ]\n",
            " [0.5        1.11111111 0.6        1.5       ]\n",
            " [1.5        2.25       3.33333333 3.33333333]]\n"
          ]
        },
        {
          "output_type": "execute_result",
          "data": {
            "text/plain": [
              "<function print>"
            ]
          },
          "metadata": {},
          "execution_count": 6
        }
      ]
    },
    {
      "cell_type": "code",
      "source": [
        "a = np.random.randint(1, 11, size=(2,3))\n",
        "b = np.random.randint(1, 11, size=(3,4))\n",
        "print(a)\n",
        "print(b)\n",
        "print(np.dot(a,b))\n",
        "print(a.dot(b))\n",
        "print(a.shape)"
      ],
      "metadata": {
        "colab": {
          "base_uri": "https://localhost:8080/"
        },
        "id": "lC6C0uxZ9jGr",
        "outputId": "c914f723-72e6-4d5c-cd2a-af120d22ddb3"
      },
      "execution_count": 8,
      "outputs": [
        {
          "output_type": "stream",
          "name": "stdout",
          "text": [
            "[[10  6  4]\n",
            " [ 7 10  5]]\n",
            "[[10 10  8  8]\n",
            " [ 3  5  4  3]\n",
            " [ 6  5  1  3]]\n",
            "[[142 150 108 110]\n",
            " [130 145 101 101]]\n",
            "[[142 150 108 110]\n",
            " [130 145 101 101]]\n",
            "(2, 3)\n"
          ]
        }
      ]
    },
    {
      "cell_type": "code",
      "source": [
        "a = np.random.randint(1, 11, size=(2,2))\n",
        "print(a. shape)\n",
        "print(type (a))\n",
        "print(a)\n",
        "print(a.T)\n"
      ],
      "metadata": {
        "id": "GN4khpR-_FIN"
      },
      "execution_count": null,
      "outputs": []
    },
    {
      "cell_type": "code",
      "source": [
        "a = np.random. randint(1, 11, size= (4,3))\n",
        "b = np.array ([1,0,2])\n",
        "print(a.shape)\n",
        "print(b.shape)\n",
        "\n",
        "c=np.empty_like(a)\n",
        "\n",
        "print(a)\n",
        "print(b)\n",
        "print(c.shape)\n",
        "print('-------------')\n",
        "print(c)\n",
        "\n"
      ],
      "metadata": {
        "colab": {
          "base_uri": "https://localhost:8080/"
        },
        "id": "vouQm--9ADWo",
        "outputId": "46307dd5-056d-4ab6-bcbf-e814db694ac9"
      },
      "execution_count": 12,
      "outputs": [
        {
          "output_type": "stream",
          "name": "stdout",
          "text": [
            "(4, 3)\n",
            "(3,)\n",
            "[[ 7  4 10]\n",
            " [ 7  9  1]\n",
            " [ 8  9  5]\n",
            " [ 5  2  5]]\n",
            "[1 0 2]\n",
            "(4, 3)\n",
            "-------------\n",
            "[[4604930618986332160 4608308318706860032 4595172819793696085]\n",
            " [4608308318706860032 4602678819172646912 4607682818758614130]\n",
            " [4603579539098121011 4609434218613702656 4609434218613702656]\n",
            " [4612248968380809216 4614688418178968235 4614688418178968235]]\n"
          ]
        }
      ]
    },
    {
      "cell_type": "code",
      "source": [
        "for i in range(4):\n",
        "  c[i,:]=a[i,:] +b\n",
        "\n",
        "print(a)\n",
        "print(b)\n",
        "print(c)\n",
        "\n",
        "c=a+b\n",
        "print(c)"
      ],
      "metadata": {
        "colab": {
          "base_uri": "https://localhost:8080/"
        },
        "id": "61yGWzwSB1TT",
        "outputId": "deef0bed-8a5d-4ff9-f021-b49c962d1405"
      },
      "execution_count": 13,
      "outputs": [
        {
          "output_type": "stream",
          "name": "stdout",
          "text": [
            "[[ 7  4 10]\n",
            " [ 7  9  1]\n",
            " [ 8  9  5]\n",
            " [ 5  2  5]]\n",
            "[1 0 2]\n",
            "[[ 8  4 12]\n",
            " [ 8  9  3]\n",
            " [ 9  9  7]\n",
            " [ 6  2  7]]\n"
          ]
        }
      ]
    },
    {
      "cell_type": "code",
      "source": [
        "a=np.array ([1,2,3])\n",
        "\n",
        "print(a)\n",
        "\n",
        "tmp=np.tile(a,(6,1))\n",
        "print(tmp)"
      ],
      "metadata": {
        "colab": {
          "base_uri": "https://localhost:8080/"
        },
        "id": "9Z5_JigNDMIm",
        "outputId": "aea6ed6f-49c1-4cf8-d546-f4373fb2b506"
      },
      "execution_count": 19,
      "outputs": [
        {
          "output_type": "stream",
          "name": "stdout",
          "text": [
            "[1 2 3]\n",
            "[[1 2 3]\n",
            " [1 2 3]\n",
            " [1 2 3]\n",
            " [1 2 3]\n",
            " [1 2 3]\n",
            " [1 2 3]]\n"
          ]
        }
      ]
    },
    {
      "cell_type": "code",
      "source": [
        "a = np.random. randint(0, 10, size= (6,6))\n",
        "print(a)\n",
        "aux=np.mean(a)\n",
        "print(aux)\n",
        "\n",
        "print(a.mean(axis=1))"
      ],
      "metadata": {
        "colab": {
          "base_uri": "https://localhost:8080/"
        },
        "id": "ywy0s78FGYhy",
        "outputId": "980274fe-a3d0-4f4f-bfd9-2be772f22bd2"
      },
      "execution_count": 23,
      "outputs": [
        {
          "output_type": "stream",
          "name": "stdout",
          "text": [
            "[[6 9 1 6 2 7]\n",
            " [8 1 0 8 2 7]\n",
            " [9 5 7 1 9 3]\n",
            " [3 2 0 3 6 3]\n",
            " [0 6 3 6 0 0]\n",
            " [9 4 3 1 0 0]]\n",
            "3.888888888888889\n",
            "[5.16666667 4.33333333 5.66666667 2.83333333 2.5        2.83333333]\n"
          ]
        }
      ]
    },
    {
      "cell_type": "code",
      "source": [],
      "metadata": {
        "id": "L2c5xgUBH_FE"
      },
      "execution_count": null,
      "outputs": []
    },
    {
      "cell_type": "code",
      "source": [],
      "metadata": {
        "id": "kfwWJTNLHklI"
      },
      "execution_count": null,
      "outputs": []
    }
  ]
}