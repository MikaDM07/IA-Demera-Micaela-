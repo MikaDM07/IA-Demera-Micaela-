{
  "nbformat": 4,
  "nbformat_minor": 0,
  "metadata": {
    "colab": {
      "provenance": [],
      "include_colab_link": true
    },
    "kernelspec": {
      "name": "python3",
      "display_name": "Python 3"
    },
    "language_info": {
      "name": "python"
    }
  },
  "cells": [
    {
      "cell_type": "markdown",
      "metadata": {
        "id": "view-in-github",
        "colab_type": "text"
      },
      "source": [
        "<a href=\"https://colab.research.google.com/github/MikaDM07/IA-Demera-Micaela-/blob/main/Actibvidad_4.ipynb\" target=\"_parent\"><img src=\"https://colab.research.google.com/assets/colab-badge.svg\" alt=\"Open In Colab\"/></a>"
      ]
    },
    {
      "cell_type": "code",
      "execution_count": null,
      "metadata": {
        "colab": {
          "base_uri": "https://localhost:8080/"
        },
        "id": "3mQ7humL5-ok",
        "outputId": "57821c31-59d8-4a29-d0dd-4616fde2639e"
      },
      "outputs": [
        {
          "output_type": "stream",
          "name": "stdout",
          "text": [
            "[[ 4  2  8  8]\n",
            " [ 4 10  3  5]\n",
            " [ 1  1  6  8]]\n",
            "[[ 2  2  5  7]\n",
            " [10  4  4  7]\n",
            " [ 7  6  4  3]]\n",
            "(3, 4)\n",
            "(3, 4)\n",
            "adding numbers\n",
            "[[ 6  4 13 15]\n",
            " [14 14  7 12]\n",
            " [ 8  7 10 11]]\n",
            "substracting numbers\n",
            "[[ 2  0  3  1]\n",
            " [-6  6 -1 -2]\n",
            " [-6 -5  2  5]]\n",
            "multiply numbers\n",
            "[[ 8  4 40 56]\n",
            " [40 40 12 35]\n",
            " [ 7  6 24 24]]\n",
            "[[ 6  4 13 15]\n",
            " [14 14  7 12]\n",
            " [ 8  7 10 11]]\n",
            "[[ 8  4 40 56]\n",
            " [40 40 12 35]\n",
            " [ 7  6 24 24]]\n"
          ]
        }
      ],
      "source": [
        "import numpy as np\n",
        "\n",
        "# Create an array with random values between 1 and 10\n",
        "a = np.random.randint(1, 11, size=(3, 4))\n",
        "b = np.random.randint(1, 11, size=(3, 4))\n",
        "\n",
        "# Print the random array\n",
        "print(a)\n",
        "print(b)\n",
        "print(a.shape)\n",
        "print(b.shape)\n",
        "print('adding numbers')\n",
        "print(a+b)\n",
        "print('substracting numbers')\n",
        "print(a-b)\n",
        "print('multiply numbers')\n",
        "print(a*b)\n",
        "\n",
        "print(np.add(a,b))\n",
        "print(np.multiply(a,b))\n",
        "print(np.divide(a,b))"
      ]
    },
    {
      "cell_type": "code",
      "source": [
        "a = np.random.randint(1, 11, size=(2, 3))\n",
        "b = np.random.randint(1, 11, size=(3, 4))\n",
        "print(a)\n",
        "print(b)\n",
        "print(np.dot(a,b))\n",
        "print(a.dot(b))\n",
        "print(a.shape)"
      ],
      "metadata": {
        "colab": {
          "base_uri": "https://localhost:8080/"
        },
        "id": "WQSr0pmD9k_M",
        "outputId": "5a4b3da2-ba4f-4e88-a3fc-0279b826a4f8"
      },
      "execution_count": null,
      "outputs": [
        {
          "output_type": "stream",
          "name": "stdout",
          "text": [
            "[[10  4  2]\n",
            " [ 2  4 10]]\n",
            "[[5 1 8 3]\n",
            " [9 7 1 5]\n",
            " [6 2 3 1]]\n",
            "[[ 98  42  90  52]\n",
            " [106  50  50  36]]\n",
            "[[ 98  42  90  52]\n",
            " [106  50  50  36]]\n",
            "(2, 3)\n"
          ]
        }
      ]
    },
    {
      "cell_type": "code",
      "source": [
        "a = np.random.randint(1, 11, size=(2,2))\n",
        "print(a.shape)\n",
        "print(type(a))\n",
        "print(a)\n",
        "print(a.T)"
      ],
      "metadata": {
        "colab": {
          "base_uri": "https://localhost:8080/"
        },
        "id": "V1daf-in_FGI",
        "outputId": "00b08f97-21a7-4b25-89c1-736ff2a4d370"
      },
      "execution_count": null,
      "outputs": [
        {
          "output_type": "stream",
          "name": "stdout",
          "text": [
            "(2, 2)\n",
            "<class 'numpy.ndarray'>\n",
            "[[2 3]\n",
            " [1 5]]\n",
            "[[2 1]\n",
            " [3 5]]\n"
          ]
        }
      ]
    },
    {
      "cell_type": "code",
      "source": [
        "a = np.random.randint(1, 11, size=(4,3))\n",
        "b = np.array([1,0,2])\n",
        "print(a.shape)\n",
        "print(b.shape)\n",
        "\n",
        "c=np.empty_like(a)\n",
        "print(a)\n",
        "print(b)\n",
        "print(c.shape)\n",
        "print('---------------')\n",
        "print(c)\n",
        "\n"
      ],
      "metadata": {
        "colab": {
          "base_uri": "https://localhost:8080/"
        },
        "id": "J8cYJZsd_uHu",
        "outputId": "dbe5fdc5-8269-4625-a65b-0c1c14b9beda"
      },
      "execution_count": null,
      "outputs": [
        {
          "output_type": "stream",
          "name": "stdout",
          "text": [
            "(4, 3)\n",
            "(3,)\n",
            "[[ 9 10  1]\n",
            " [ 4  8  8]\n",
            " [ 5  5  4]\n",
            " [ 5  9  4]]\n",
            "[1 0 2]\n",
            "(4, 3)\n",
            "---------------\n",
            "[[ 8 10  1]\n",
            " [ 3  7  8]\n",
            " [ 2  3  9]\n",
            " [ 4  8  4]]\n"
          ]
        }
      ]
    },
    {
      "cell_type": "code",
      "source": [
        "for i in range(4):\n",
        "  c[i,:]=a[i,:]+b\n",
        "\n",
        "  print(a)\n",
        "  print(b)\n",
        "  print(c)\n",
        "\n",
        "  c=a+b\n",
        "  print(c)"
      ],
      "metadata": {
        "colab": {
          "base_uri": "https://localhost:8080/"
        },
        "id": "42PO8Hv3BudI",
        "outputId": "2bb20505-a87a-44b6-9532-a05555f1240b"
      },
      "execution_count": null,
      "outputs": [
        {
          "output_type": "stream",
          "name": "stdout",
          "text": [
            "[[ 9 10  1]\n",
            " [ 4  8  8]\n",
            " [ 5  5  4]\n",
            " [ 5  9  4]]\n",
            "[1 0 2]\n",
            "[[10 10  3]\n",
            " [ 5  8 10]\n",
            " [ 6  5  6]\n",
            " [ 6  9  6]]\n",
            "[[10 10  3]\n",
            " [ 5  8 10]\n",
            " [ 6  5  6]\n",
            " [ 6  9  6]]\n",
            "[[ 9 10  1]\n",
            " [ 4  8  8]\n",
            " [ 5  5  4]\n",
            " [ 5  9  4]]\n",
            "[1 0 2]\n",
            "[[10 10  3]\n",
            " [ 5  8 10]\n",
            " [ 6  5  6]\n",
            " [ 6  9  6]]\n",
            "[[10 10  3]\n",
            " [ 5  8 10]\n",
            " [ 6  5  6]\n",
            " [ 6  9  6]]\n",
            "[[ 9 10  1]\n",
            " [ 4  8  8]\n",
            " [ 5  5  4]\n",
            " [ 5  9  4]]\n",
            "[1 0 2]\n",
            "[[10 10  3]\n",
            " [ 5  8 10]\n",
            " [ 6  5  6]\n",
            " [ 6  9  6]]\n",
            "[[10 10  3]\n",
            " [ 5  8 10]\n",
            " [ 6  5  6]\n",
            " [ 6  9  6]]\n",
            "[[ 9 10  1]\n",
            " [ 4  8  8]\n",
            " [ 5  5  4]\n",
            " [ 5  9  4]]\n",
            "[1 0 2]\n",
            "[[10 10  3]\n",
            " [ 5  8 10]\n",
            " [ 6  5  6]\n",
            " [ 6  9  6]]\n",
            "[[10 10  3]\n",
            " [ 5  8 10]\n",
            " [ 6  5  6]\n",
            " [ 6  9  6]]\n"
          ]
        }
      ]
    },
    {
      "cell_type": "code",
      "source": [
        "a=np.array([1,2,3])\n",
        "\n",
        "print(a)\n",
        "tmp=np.tile(a,(6,1))\n",
        "print(tmp)"
      ],
      "metadata": {
        "colab": {
          "base_uri": "https://localhost:8080/"
        },
        "id": "p9lMMY0wDIUT",
        "outputId": "f2d9fb4c-1d7f-4b0c-854a-4912b8bd1918"
      },
      "execution_count": null,
      "outputs": [
        {
          "output_type": "stream",
          "name": "stdout",
          "text": [
            "[1 2 3]\n",
            "[[1 2 3]\n",
            " [1 2 3]\n",
            " [1 2 3]\n",
            " [1 2 3]\n",
            " [1 2 3]\n",
            " [1 2 3]]\n"
          ]
        }
      ]
    },
    {
      "cell_type": "code",
      "source": [
        "a=np.random.randint(0,10, size=(6,6))\n",
        "print(a)\n",
        "aux=np.mean(a)\n",
        "print(aux)\n",
        "print(a.mean(axis=1))"
      ],
      "metadata": {
        "colab": {
          "base_uri": "https://localhost:8080/"
        },
        "id": "bFmOf7W0GZwK",
        "outputId": "6c16fb84-eb17-44e0-a31c-915b8a212f61"
      },
      "execution_count": null,
      "outputs": [
        {
          "output_type": "stream",
          "name": "stdout",
          "text": [
            "[[4 7 8 9 5 3]\n",
            " [1 6 3 8 6 5]\n",
            " [9 0 4 0 3 7]\n",
            " [5 9 5 3 2 2]\n",
            " [9 5 4 0 8 6]\n",
            " [0 7 5 4 8 1]]\n",
            "4.75\n",
            "[6.         4.83333333 3.83333333 4.33333333 5.33333333 4.16666667]\n"
          ]
        }
      ]
    }
  ]
}