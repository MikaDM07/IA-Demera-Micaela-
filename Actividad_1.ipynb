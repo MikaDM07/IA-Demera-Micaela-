{
  "nbformat": 4,
  "nbformat_minor": 0,
  "metadata": {
    "colab": {
      "provenance": [],
      "toc_visible": true,
      "authorship_tag": "ABX9TyOGDbXVSsD94Az1O8oF+wTk",
      "include_colab_link": true
    },
    "kernelspec": {
      "name": "python3",
      "display_name": "Python 3"
    },
    "language_info": {
      "name": "python"
    }
  },
  "cells": [
    {
      "cell_type": "markdown",
      "metadata": {
        "id": "view-in-github",
        "colab_type": "text"
      },
      "source": [
        "<a href=\"https://colab.research.google.com/github/MikaDM07/IA-Demera-Micaela-/blob/main/Actividad_1.ipynb\" target=\"_parent\"><img src=\"https://colab.research.google.com/assets/colab-badge.svg\" alt=\"Open In Colab\"/></a>"
      ]
    },
    {
      "cell_type": "code",
      "execution_count": null,
      "metadata": {
        "id": "qGg3FEqpt3nh"
      },
      "outputs": [],
      "source": [
        "num_1 = 1\n"
      ]
    },
    {
      "cell_type": "code",
      "source": [
        "num_2 = 2"
      ],
      "metadata": {
        "id": "Y3C0vosPuYrs"
      },
      "execution_count": null,
      "outputs": []
    },
    {
      "cell_type": "code",
      "source": [
        "print(num_1+num_2)"
      ],
      "metadata": {
        "colab": {
          "base_uri": "https://localhost:8080/"
        },
        "id": "e-XRzQFPubl9",
        "outputId": "3c578d11-26d8-4b3c-a31e-b392bcf97781"
      },
      "execution_count": null,
      "outputs": [
        {
          "output_type": "stream",
          "name": "stdout",
          "text": [
            "3\n"
          ]
        }
      ]
    },
    {
      "cell_type": "code",
      "source": [
        "pote = 1**num_2"
      ],
      "metadata": {
        "id": "OAbKsKI0uknh"
      },
      "execution_count": null,
      "outputs": []
    },
    {
      "cell_type": "code",
      "source": [
        "print(pote)"
      ],
      "metadata": {
        "colab": {
          "base_uri": "https://localhost:8080/"
        },
        "id": "YOYx60VquyAu",
        "outputId": "e69e65a6-48e5-4f3e-ea1c-88eefc5ee9da"
      },
      "execution_count": null,
      "outputs": [
        {
          "output_type": "stream",
          "name": "stdout",
          "text": [
            "1\n"
          ]
        }
      ]
    },
    {
      "cell_type": "code",
      "source": [
        "aux_1=True\n",
        "aux_2=False\n",
        "print(aux_1 and aux_2)\n",
        "print(aux_1 or aux_2)\n",
        "print(not aux_1)\n",
        "print(not aux_2)"
      ],
      "metadata": {
        "colab": {
          "base_uri": "https://localhost:8080/"
        },
        "id": "Y-NWyrHnu3Me",
        "outputId": "f7daed2c-4b1d-4ba8-e8fd-c8163a8e3d52"
      },
      "execution_count": null,
      "outputs": [
        {
          "output_type": "stream",
          "name": "stdout",
          "text": [
            "False\n",
            "True\n",
            "False\n",
            "True\n"
          ]
        }
      ]
    },
    {
      "cell_type": "code",
      "source": [
        "myName=\"Micaela\"\n",
        "print(myName)\n",
        "print(myName.upper())\n",
        "print(myName.lower())"
      ],
      "metadata": {
        "colab": {
          "base_uri": "https://localhost:8080/"
        },
        "id": "MZoQbzPOu6Iz",
        "outputId": "8ba1c058-4672-4a7c-ca9f-d5e8d8194e54"
      },
      "execution_count": null,
      "outputs": [
        {
          "output_type": "stream",
          "name": "stdout",
          "text": [
            "Micaela\n",
            "MICAELA\n",
            "micaela\n"
          ]
        }
      ]
    },
    {
      "cell_type": "code",
      "source": [
        "tmp='Micaela; Demera ; Moreira'\n",
        "print(tmp)\n",
        "print(tmp.split(';'))"
      ],
      "metadata": {
        "colab": {
          "base_uri": "https://localhost:8080/"
        },
        "id": "J3MQpdXku-aP",
        "outputId": "f26103e2-8a0b-4480-90ab-9738300d4b66"
      },
      "execution_count": null,
      "outputs": [
        {
          "output_type": "stream",
          "name": "stdout",
          "text": [
            "Micaela; Demera ; Moreira\n",
            "['Micaela', ' Demera ', ' Moreira']\n"
          ]
        }
      ]
    },
    {
      "cell_type": "code",
      "source": [
        "lista=('cuaderno','lapiz','borrador','regla')\n",
        "print(lista)\n",
        "nuevo_objeto='hoja'\n",
        "#lista.append(nuevo_objeto)\n",
        "print(lista)"
      ],
      "metadata": {
        "colab": {
          "base_uri": "https://localhost:8080/"
        },
        "id": "9GL4nsoovx5s",
        "outputId": "9536e068-12f0-4889-b880-d154a3584db9"
      },
      "execution_count": null,
      "outputs": [
        {
          "output_type": "stream",
          "name": "stdout",
          "text": [
            "('cuaderno', 'lapiz', 'borrador', 'regla')\n",
            "('cuaderno', 'lapiz', 'borrador', 'regla')\n"
          ]
        }
      ]
    },
    {
      "cell_type": "code",
      "source": [
        "newListeNum=list(range(20))\n",
        "print(newListeNum)\n",
        "print(newListeNum[5:11])\n",
        "print(newListeNum[-1])"
      ],
      "metadata": {
        "colab": {
          "base_uri": "https://localhost:8080/"
        },
        "id": "3e1KCizMv7kf",
        "outputId": "a971bc91-25cb-46fa-ab43-d015e4bd875d"
      },
      "execution_count": null,
      "outputs": [
        {
          "output_type": "stream",
          "name": "stdout",
          "text": [
            "[0, 1, 2, 3, 4, 5, 6, 7, 8, 9, 10, 11, 12, 13, 14, 15, 16, 17, 18, 19]\n",
            "[5, 6, 7, 8, 9, 10]\n",
            "19\n"
          ]
        }
      ]
    }
  ]
}