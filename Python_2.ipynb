{
  "nbformat": 4,
  "nbformat_minor": 0,
  "metadata": {
    "colab": {
      "provenance": [],
      "authorship_tag": "ABX9TyOJHgBCZVg3oLkpkpZJLGyi",
      "include_colab_link": true
    },
    "kernelspec": {
      "name": "python3",
      "display_name": "Python 3"
    },
    "language_info": {
      "name": "python"
    }
  },
  "cells": [
    {
      "cell_type": "markdown",
      "metadata": {
        "id": "view-in-github",
        "colab_type": "text"
      },
      "source": [
        "<a href=\"https://colab.research.google.com/github/MikaDM07/IA-Demera-Micaela-/blob/main/Python_2.ipynb\" target=\"_parent\"><img src=\"https://colab.research.google.com/assets/colab-badge.svg\" alt=\"Open In Colab\"/></a>"
      ]
    },
    {
      "cell_type": "code",
      "source": [
        "miDiccionario = {'cat':'bonito', 'dog':'angry', 'lion':'strong'}\n",
        "\n",
        "print(type(miDiccionario))\n",
        "\n",
        "for key, value in miDiccionario.items():\n",
        "  print(f'key {key}, value {value}')\n",
        "  print('key %s, value %s'%(key,value))\n",
        "  print('the key value is: {} and the value is: {}'.format(key, value))\n",
        "miDiccionario['monkey']='so cute'\n",
        "\n",
        "print('------------------')\n",
        "print(miDiccionario)"
      ],
      "metadata": {
        "colab": {
          "base_uri": "https://localhost:8080/"
        },
        "id": "CdTTkeyEpGDN",
        "outputId": "aea70acf-49bf-4194-c218-f4f559685fb6"
      },
      "execution_count": 2,
      "outputs": [
        {
          "output_type": "stream",
          "name": "stdout",
          "text": [
            "<class 'dict'>\n",
            "key cat, value bonito\n",
            "key cat, value bonito\n",
            "the key value is: cat and the value is: bonito\n",
            "key dog, value angry\n",
            "key dog, value angry\n",
            "the key value is: dog and the value is: angry\n",
            "key lion, value strong\n",
            "key lion, value strong\n",
            "the key value is: lion and the value is: strong\n",
            "------------------\n",
            "{'cat': 'bonito', 'dog': 'angry', 'lion': 'strong', 'monkey': 'so cute'}\n"
          ]
        }
      ]
    }
  ]
}