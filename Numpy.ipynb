{
  "nbformat": 4,
  "nbformat_minor": 0,
  "metadata": {
    "colab": {
      "provenance": [],
      "authorship_tag": "ABX9TyMo+vZuTRcF/JSbAuv9QhAd",
      "include_colab_link": true
    },
    "kernelspec": {
      "name": "python3",
      "display_name": "Python 3"
    },
    "language_info": {
      "name": "python"
    }
  },
  "cells": [
    {
      "cell_type": "markdown",
      "metadata": {
        "id": "view-in-github",
        "colab_type": "text"
      },
      "source": [
        "<a href=\"https://colab.research.google.com/github/MikaDM07/IA-Demera-Micaela-/blob/main/Numpy.ipynb\" target=\"_parent\"><img src=\"https://colab.research.google.com/assets/colab-badge.svg\" alt=\"Open In Colab\"/></a>"
      ]
    },
    {
      "cell_type": "code",
      "execution_count": 4,
      "metadata": {
        "colab": {
          "base_uri": "https://localhost:8080/"
        },
        "id": "J2WUwIcnwgWj",
        "outputId": "ad7f3775-2fac-4216-d785-96b6099fed5a"
      },
      "outputs": [
        {
          "output_type": "stream",
          "name": "stdout",
          "text": [
            "[1 2 4 5]\n",
            "(4,)\n",
            "(2, 4)\n",
            "[[1 2 3 4]\n",
            " [1 2 3 4]]\n",
            "<class 'numpy.ndarray'>\n",
            "[[0. 0. 0. 0.]\n",
            " [0. 0. 0. 0.]\n",
            " [0. 0. 0. 0.]\n",
            " [0. 0. 0. 0.]]\n",
            "[[5 5 5 5]\n",
            " [5 5 5 5]\n",
            " [5 5 5 5]\n",
            " [5 5 5 5]]\n",
            "[[1. 0. 0. 0.]\n",
            " [0. 1. 0. 0.]\n",
            " [0. 0. 1. 0.]\n",
            " [0. 0. 0. 1.]]\n",
            "..........\n",
            "[[1. 1. 1. 1.]\n",
            " [1. 1. 1. 1.]\n",
            " [1. 1. 1. 1.]\n",
            " [1. 1. 1. 1.]]\n"
          ]
        }
      ],
      "source": [
        "import numpy as np\n",
        "aux=np.array ([1,2,4,5])\n",
        "print(aux)\n",
        "print(aux.shape)\n",
        "\n",
        "aux=np.array([[1,2,3,4],[1,2,3,4,]])\n",
        "print (aux.shape)\n",
        "print(aux)\n",
        "print(type(aux))\n",
        "\n",
        "tmp=np.zeros((4,4))\n",
        "print(tmp)\n",
        "\n",
        "tmp=np.full((4,4),5)\n",
        "print(tmp)\n",
        "\n",
        "tmp=np.eye(4,4)\n",
        "print(tmp)\n",
        "\n",
        "print('..........')\n",
        "tmp=np.ones((4,4))\n",
        "print(tmp)\n"
      ]
    },
    {
      "cell_type": "code",
      "source": [
        "import numpy as np\n",
        "\n",
        "a = np.random.randint(1, 10, size=(3,3))\n",
        "b = np.random.randint(1, 10, size=(3,3))\n",
        "\n",
        "print(a)\n",
        "print(b)\n",
        "print(a.shape)\n",
        "print(b.shape)\n",
        "\n",
        "print('Adding numbers')\n",
        "print(a+b)\n",
        "\n",
        "print('Subtracting numbers')\n",
        "print(a-b)\n",
        "\n",
        "print('Multiplication numbers')\n",
        "print(a*b)\n",
        "\n",
        "print('Add')\n",
        "print(np.add(a,b))\n",
        "print('Substract')\n",
        "print(np.subtract(a,b))\n",
        "print('Multiply')\n",
        "print(np.multiply(a,b))\n",
        "print('Divide')\n",
        "print(np.divide(a,b))"
      ],
      "metadata": {
        "colab": {
          "base_uri": "https://localhost:8080/"
        },
        "id": "1oHMXzmPxoQD",
        "outputId": "763a25cf-246f-4883-a5bf-5f466d401408"
      },
      "execution_count": 10,
      "outputs": [
        {
          "output_type": "stream",
          "name": "stdout",
          "text": [
            "[[8 5 2]\n",
            " [5 5 7]\n",
            " [3 2 8]]\n",
            "[[8 5 9]\n",
            " [6 8 5]\n",
            " [8 2 1]]\n",
            "(3, 3)\n",
            "(3, 3)\n",
            "Adding numbers\n",
            "[[16 10 11]\n",
            " [11 13 12]\n",
            " [11  4  9]]\n",
            "Subtracting numbers\n",
            "[[ 0  0 -7]\n",
            " [-1 -3  2]\n",
            " [-5  0  7]]\n",
            "Multiplication numbers\n",
            "[[64 25 18]\n",
            " [30 40 35]\n",
            " [24  4  8]]\n",
            "Add\n",
            "[[16 10 11]\n",
            " [11 13 12]\n",
            " [11  4  9]]\n",
            "Substract\n",
            "[[ 0  0 -7]\n",
            " [-1 -3  2]\n",
            " [-5  0  7]]\n",
            "Multiply\n",
            "[[64 25 18]\n",
            " [30 40 35]\n",
            " [24  4  8]]\n",
            "Divide\n",
            "[[1.         1.         0.22222222]\n",
            " [0.83333333 0.625      1.4       ]\n",
            " [0.375      1.         8.        ]]\n"
          ]
        }
      ]
    }
  ]
}