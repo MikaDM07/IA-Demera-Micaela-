{
  "nbformat": 4,
  "nbformat_minor": 0,
  "metadata": {
    "colab": {
      "provenance": [],
      "authorship_tag": "ABX9TyO+sYi2gwWkIIvVlcVmrMWw",
      "include_colab_link": true
    },
    "kernelspec": {
      "name": "python3",
      "display_name": "Python 3"
    },
    "language_info": {
      "name": "python"
    }
  },
  "cells": [
    {
      "cell_type": "markdown",
      "metadata": {
        "id": "view-in-github",
        "colab_type": "text"
      },
      "source": [
        "<a href=\"https://colab.research.google.com/github/MikaDM07/IA-Demera-Micaela-/blob/main/Actividad_2.ipynb\" target=\"_parent\"><img src=\"https://colab.research.google.com/assets/colab-badge.svg\" alt=\"Open In Colab\"/></a>"
      ]
    },
    {
      "cell_type": "code",
      "execution_count": null,
      "metadata": {
        "colab": {
          "base_uri": "https://localhost:8080/"
        },
        "id": "tBvMakN909Ki",
        "outputId": "a4116f5d-e963-445d-a7da-3abb6f6bbbe3"
      },
      "outputs": [
        {
          "output_type": "stream",
          "name": "stdout",
          "text": [
            "Python 3.10.12\n"
          ]
        }
      ],
      "source": [
        "!python --version"
      ]
    },
    {
      "cell_type": "markdown",
      "source": [
        "Tipo de Datos Básicos\n"
      ],
      "metadata": {
        "id": "oz9TvKnO1Ruo"
      }
    },
    {
      "cell_type": "code",
      "source": [
        "sample1=10\n",
        "sample2=2.2\n",
        "sample3='Micaela'\n",
        "\n",
        "print(type[sample1])\n",
        "print(type[sample2])\n",
        "print(type[sample3])\n",
        "\n",
        "print(sample1+sample2)\n",
        "print(sample1*sample2)\n",
        "print(sample1**2)\n",
        "\n",
        "s1=True\n",
        "s2=False\n",
        "\n",
        "#print(s1 and s2)\n",
        "#print(s1 or s2)\n",
        "#print(not s1)\n",
        "\n",
        "#print(len(sample3))\n",
        "#print(sample3.upper())\n",
        "#print(sample3.lower())\n",
        "#print(sample3.capitalize())"
      ],
      "metadata": {
        "colab": {
          "base_uri": "https://localhost:8080/"
        },
        "id": "fDzrQj8_11Fd",
        "outputId": "14aab0f2-f3a9-4827-9e80-ee9a0548ebf6"
      },
      "execution_count": null,
      "outputs": [
        {
          "output_type": "stream",
          "name": "stdout",
          "text": [
            "type[10]\n",
            "type[2.2]\n",
            "type['Micaela']\n",
            "12.2\n",
            "22.0\n",
            "100\n"
          ]
        }
      ]
    },
    {
      "cell_type": "code",
      "source": [
        "someList=list()\n",
        "someList=['borrrador',1,'goma', 'mochila', True]\n",
        "print(someList[4])\n",
        "print(len(someList))\n",
        "\n",
        "# print('----------------')\n",
        "# for i in someList:\n",
        "#   print(i)\n",
        "\n",
        "# someList.append('regla')\n",
        "# print('-----------------')\n",
        "# for i in someList:\n",
        "#   print(i)\n",
        "# someList.pop(2)\n",
        "# print('*********')\n",
        "# for i in someList:\n",
        "#  print(i)\n",
        "# print('----')\n",
        "# print(someList[1:4])\n",
        "print(someList[-1])\n",
        "print(someList[:3])\n"
      ],
      "metadata": {
        "colab": {
          "base_uri": "https://localhost:8080/"
        },
        "id": "Zn5ZB11jhWfw",
        "outputId": "82854c74-9b0c-46da-bdb0-3570cf733a6f"
      },
      "execution_count": 14,
      "outputs": [
        {
          "output_type": "stream",
          "name": "stdout",
          "text": [
            "True\n",
            "5\n",
            "True\n",
            "['borrrador', 1, 'goma']\n"
          ]
        }
      ]
    },
    {
      "cell_type": "code",
      "source": [
        "d={'name':'Juan','age':30,'city':'El Carmen'}\n",
        "# print(d['name'])\n",
        "# print(d['name'])\n",
        "\n",
        "# d['uni']='Uleam'\n",
        "# print(d['name'])\n",
        "\n",
        "\n",
        "for key in d:\n",
        " print(d[key])"
      ],
      "metadata": {
        "colab": {
          "base_uri": "https://localhost:8080/"
        },
        "id": "cG3iggdhnX77",
        "outputId": "5096fc35-ecf3-498a-badb-9611168843d4"
      },
      "execution_count": 18,
      "outputs": [
        {
          "output_type": "stream",
          "name": "stdout",
          "text": [
            "Juan\n",
            "30\n",
            "El Carmen\n"
          ]
        }
      ]
    }
  ]
}