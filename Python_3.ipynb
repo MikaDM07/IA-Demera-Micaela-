{
  "nbformat": 4,
  "nbformat_minor": 0,
  "metadata": {
    "colab": {
      "provenance": [],
      "authorship_tag": "ABX9TyNs+9pojZtifoWSmorUaog8",
      "include_colab_link": true
    },
    "kernelspec": {
      "name": "python3",
      "display_name": "Python 3"
    },
    "language_info": {
      "name": "python"
    }
  },
  "cells": [
    {
      "cell_type": "markdown",
      "metadata": {
        "id": "view-in-github",
        "colab_type": "text"
      },
      "source": [
        "<a href=\"https://colab.research.google.com/github/MikaDM07/IA-Demera-Micaela-/blob/main/Python_3.ipynb\" target=\"_parent\"><img src=\"https://colab.research.google.com/assets/colab-badge.svg\" alt=\"Open In Colab\"/></a>"
      ]
    },
    {
      "cell_type": "code",
      "source": [
        "!python --version"
      ],
      "metadata": {
        "colab": {
          "base_uri": "https://localhost:8080/"
        },
        "id": "kGhAjvzxnyV8",
        "outputId": "65c493c0-aa5f-419d-fac7-53a1f401eb89"
      },
      "execution_count": 3,
      "outputs": [
        {
          "output_type": "stream",
          "name": "stdout",
          "text": [
            "Python 3.10.12\n"
          ]
        }
      ]
    },
    {
      "cell_type": "code",
      "source": [
        "variable1=10\n",
        "variable2=2.2\n",
        "variable3='Parangaricutirimicuaro'\n",
        "print(type(variable1))\n",
        "print(type(variable2))\n",
        "print(type(variable3))\n",
        "\n",
        "\n",
        "print(variable1+variable2)\n",
        "print(variable1-variable2)\n",
        "print(variable1*variable2)\n",
        "print(variable1/variable2)\n",
        "\n",
        "v1=True\n",
        "\n",
        "variable1=10\n",
        "variable2=2.2\n",
        "variable3='Parangaricutirimicuaro'\n",
        "print(type(variable1))\n",
        "print(type(variable2))\n",
        "print(type(variable3))\n",
        "\n",
        "\n",
        "print(variable1+variable2)\n",
        "print(variable1-variable2)\n",
        "print(variable1*variable2)\n",
        "print(variable1/variable2)\n",
        "\n",
        "v1=True\n",
        "v2=False"
      ],
      "metadata": {
        "colab": {
          "base_uri": "https://localhost:8080/"
        },
        "id": "JztzKu2bn1FX",
        "outputId": "c9b1329a-7685-44e7-8008-45e7bf3d8507"
      },
      "execution_count": 5,
      "outputs": [
        {
          "output_type": "stream",
          "name": "stdout",
          "text": [
            "<class 'int'>\n",
            "<class 'float'>\n",
            "<class 'str'>\n",
            "12.2\n",
            "7.8\n",
            "22.0\n",
            "4.545454545454545\n",
            "<class 'int'>\n",
            "<class 'float'>\n",
            "<class 'str'>\n",
            "12.2\n",
            "7.8\n",
            "22.0\n",
            "4.545454545454545\n"
          ]
        }
      ]
    },
    {
      "cell_type": "markdown",
      "source": [
        "Containers\n",
        "1. Lists"
      ],
      "metadata": {
        "id": "LCCiTjgEoFR_"
      }
    },
    {
      "cell_type": "code",
      "source": [
        "algunaLista=list()\n",
        "algunaLista=['borrador','cuaderno','goma','lápiz','mochila','esferos','lapices de colores',True]\n",
        "print(algunaLista[2])\n",
        "print(algunaLista[7])\n",
        "print(len(algunaLista))\n",
        "print('--------------------')\n",
        "\n",
        "\n",
        "# for i in algunaLista:\n",
        "#   print(i)\n",
        "# print('--------------------')\n",
        "\n",
        "\n",
        "# algunaLista.append('regla')\n",
        "# for i in algunaLista:\n",
        "#   print(i)\n",
        "# algunaLista.pop(2)\n",
        "# print('--------------------')\n",
        "\n",
        "\n",
        "# for i in algunaLista:\n",
        "#   print(i)\n",
        "# print('--------------------')\n",
        "\n",
        "# # Slicing\n",
        "# print(algunaLista[1:5])\n",
        "\n",
        "# print(algunaLista[-1])\n",
        "\n",
        "print(algunaLista[0:3])\n",
        ""
      ],
      "metadata": {
        "colab": {
          "base_uri": "https://localhost:8080/"
        },
        "id": "pK7JLFrgnmNI",
        "outputId": "d335ee47-407e-4c8e-c1b8-6667bd94eddd"
      },
      "execution_count": 10,
      "outputs": [
        {
          "output_type": "stream",
          "name": "stdout",
          "text": [
            "goma\n",
            "True\n",
            "8\n",
            "--------------------\n",
            "['borrador', 'cuaderno', 'goma']\n"
          ]
        }
      ]
    },
    {
      "cell_type": "markdown",
      "source": [
        "2. Dictionaries"
      ],
      "metadata": {
        "id": "zt63bKLVoZ1w"
      }
    },
    {
      "cell_type": "code",
      "source": [
        "d={'name':'Juan','age':30,'city':'El Carmen'}\n",
        "# print(d['name'])\n",
        "# print(d['city'])\n",
        "\n",
        "# d['uni']='ULEAM'\n",
        "# print(d['uni'])\n",
        "\n",
        "for key in d:\n",
        "  print(d[key])"
      ],
      "metadata": {
        "colab": {
          "base_uri": "https://localhost:8080/"
        },
        "id": "p3RNmK2eohte",
        "outputId": "774d2d0d-fc4c-4cc7-bbd0-c44c3ae3031b"
      },
      "execution_count": 9,
      "outputs": [
        {
          "output_type": "stream",
          "name": "stdout",
          "text": [
            "Juan\n",
            "30\n",
            "El Carmen\n"
          ]
        }
      ]
    }
  ]
}