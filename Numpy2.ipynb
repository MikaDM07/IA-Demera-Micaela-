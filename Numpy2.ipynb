{
  "nbformat": 4,
  "nbformat_minor": 0,
  "metadata": {
    "colab": {
      "provenance": [],
      "authorship_tag": "ABX9TyM7yMtZxEPxFhkOqGW7oqoR",
      "include_colab_link": true
    },
    "kernelspec": {
      "name": "python3",
      "display_name": "Python 3"
    },
    "language_info": {
      "name": "python"
    }
  },
  "cells": [
    {
      "cell_type": "markdown",
      "metadata": {
        "id": "view-in-github",
        "colab_type": "text"
      },
      "source": [
        "<a href=\"https://colab.research.google.com/github/MikaDM07/IA-Demera-Micaela-/blob/main/Numpy2.ipynb\" target=\"_parent\"><img src=\"https://colab.research.google.com/assets/colab-badge.svg\" alt=\"Open In Colab\"/></a>"
      ]
    },
    {
      "cell_type": "code",
      "execution_count": 1,
      "metadata": {
        "colab": {
          "base_uri": "https://localhost:8080/"
        },
        "id": "Mz8RT3as6UTD",
        "outputId": "04ce4f23-5ba6-41c8-82b8-21607abdca45"
      },
      "outputs": [
        {
          "output_type": "stream",
          "name": "stdout",
          "text": [
            "[[7 9 5 7]\n",
            " [4 1 7 5]\n",
            " [9 3 4 7]]\n",
            "(3, 4)\n",
            "[[3 6 9 5]\n",
            " [1 2 4 2]\n",
            " [4 6 2 3]]\n",
            "(3, 4)\n",
            "adding numbers\n",
            "[[10 15 14 12]\n",
            " [ 5  3 11  7]\n",
            " [13  9  6 10]]\n",
            "subtracting numbers\n",
            "[[ 4  3 -4  2]\n",
            " [ 3 -1  3  3]\n",
            " [ 5 -3  2  4]]\n",
            "multiplier numbers\n",
            "[[21 54 45 35]\n",
            " [ 4  2 28 10]\n",
            " [36 18  8 21]]\n",
            "[[10 15 14 12]\n",
            " [ 5  3 11  7]\n",
            " [13  9  6 10]]\n",
            "[[21 54 45 35]\n",
            " [ 4  2 28 10]\n",
            " [36 18  8 21]]\n",
            "[[2.33333333 1.5        0.55555556 1.4       ]\n",
            " [4.         0.5        1.75       2.5       ]\n",
            " [2.25       0.5        2.         2.33333333]]\n"
          ]
        }
      ],
      "source": [
        "import numpy as np\n",
        "a= np.random.randint(1, 11, (3, 4))\n",
        "b= np.random.randint(1, 11, (3, 4))\n",
        "print(a)\n",
        "print(a.shape)\n",
        "print(b)\n",
        "print(b.shape)\n",
        "print('adding numbers')\n",
        "print(a+b)\n",
        "print('subtracting numbers')\n",
        "print(a-b)\n",
        "print('multiplier numbers')\n",
        "print(a*b)\n",
        "\n",
        "\n",
        "print(np.add(a,b))\n",
        "print(np.multiply(a,b))\n",
        "print(np.divide(a,b))"
      ]
    },
    {
      "cell_type": "code",
      "source": [
        "a = np.random.randint(1, 11, size=(2, 3))\n",
        "b = np.random.randint(1, 11, size=(3, 4 ))\n",
        "\n",
        "print(a)\n",
        "print(a.shape)\n",
        "print(b)\n",
        "print(b.shape)\n",
        "print(np.dot(a,b))"
      ],
      "metadata": {
        "colab": {
          "base_uri": "https://localhost:8080/"
        },
        "id": "-Mt4slTj6dcw",
        "outputId": "803037e4-2a33-4d0a-d155-e2fe8ef5c2ed"
      },
      "execution_count": 2,
      "outputs": [
        {
          "output_type": "stream",
          "name": "stdout",
          "text": [
            "[[ 9  4  9]\n",
            " [10  8  8]]\n",
            "(2, 3)\n",
            "[[ 8  5 10  1]\n",
            " [ 5  2  1  5]\n",
            " [ 6  2  4 10]]\n",
            "(3, 4)\n",
            "[[146  71 130 119]\n",
            " [168  82 140 130]]\n"
          ]
        }
      ]
    },
    {
      "cell_type": "code",
      "source": [
        "a= np.random.randint(1, 11, (2, 2))\n",
        "print(a.shape)\n",
        "print(type(a))\n",
        "print(a)\n",
        "print(a.T)"
      ],
      "metadata": {
        "colab": {
          "base_uri": "https://localhost:8080/"
        },
        "id": "QuyBmHYQ6jB0",
        "outputId": "843db15f-9a80-4e5a-d897-c27592feabce"
      },
      "execution_count": 3,
      "outputs": [
        {
          "output_type": "stream",
          "name": "stdout",
          "text": [
            "(2, 2)\n",
            "<class 'numpy.ndarray'>\n",
            "[[4 2]\n",
            " [2 2]]\n",
            "[[4 2]\n",
            " [2 2]]\n"
          ]
        }
      ]
    },
    {
      "cell_type": "code",
      "source": [
        "a= np.random.randint(1, 11, (4, 3))\n",
        "b= np.array((1,0,2))\n",
        "print(a)\n",
        "print(a.shape)\n",
        "print(b)\n",
        "print(b.shape)\n",
        "\n",
        "c=np.empty_like(a)\n",
        "\n",
        "print(c.shape)\n",
        "print('----------------')\n",
        "print(c)"
      ],
      "metadata": {
        "colab": {
          "base_uri": "https://localhost:8080/"
        },
        "id": "dz0zrpJ46o-J",
        "outputId": "5421e910-7fa4-4320-a221-49f2fbeb70f0"
      },
      "execution_count": 4,
      "outputs": [
        {
          "output_type": "stream",
          "name": "stdout",
          "text": [
            "[[ 8  7  8]\n",
            " [10  3  9]\n",
            " [ 6  5  6]\n",
            " [ 4 10  4]]\n",
            "(4, 3)\n",
            "[1 0 2]\n",
            "(3,)\n",
            "(4, 3)\n",
            "----------------\n",
            "[[7 9 5]\n",
            " [7 4 1]\n",
            " [7 5 9]\n",
            " [3 4 7]]\n"
          ]
        }
      ]
    },
    {
      "cell_type": "code",
      "source": [
        "for i in range(4):\n",
        "  c[i,:]=a[i,:]+b\n",
        "\n",
        "print(a)\n",
        "print(b)\n",
        "print(c)\n",
        "\n",
        "c=a+b\n",
        "print(c)"
      ],
      "metadata": {
        "colab": {
          "base_uri": "https://localhost:8080/"
        },
        "id": "_8wWjT9K6s2p",
        "outputId": "9dde0e52-5dd5-4fa6-ccda-7fc1b3d7376d"
      },
      "execution_count": 5,
      "outputs": [
        {
          "output_type": "stream",
          "name": "stdout",
          "text": [
            "[[ 8  7  8]\n",
            " [10  3  9]\n",
            " [ 6  5  6]\n",
            " [ 4 10  4]]\n",
            "[1 0 2]\n",
            "[[ 9  7 10]\n",
            " [11  3 11]\n",
            " [ 7  5  8]\n",
            " [ 5 10  6]]\n",
            "[[ 9  7 10]\n",
            " [11  3 11]\n",
            " [ 7  5  8]\n",
            " [ 5 10  6]]\n"
          ]
        }
      ]
    },
    {
      "cell_type": "code",
      "source": [
        "a=np.array((1,2,3))\n",
        "\n",
        "print(a)\n",
        "tmp=np.tile(a,(6,1))\n",
        "print(tmp)"
      ],
      "metadata": {
        "colab": {
          "base_uri": "https://localhost:8080/"
        },
        "id": "5Y2bJBQB6wSl",
        "outputId": "32004b99-9541-42cf-96cd-f73f8b64abb7"
      },
      "execution_count": 6,
      "outputs": [
        {
          "output_type": "stream",
          "name": "stdout",
          "text": [
            "[1 2 3]\n",
            "[[1 2 3]\n",
            " [1 2 3]\n",
            " [1 2 3]\n",
            " [1 2 3]\n",
            " [1 2 3]\n",
            " [1 2 3]]\n"
          ]
        }
      ]
    },
    {
      "cell_type": "code",
      "source": [
        "a= np.random.randint(0,10 , (6, 6))\n",
        "print(a)\n",
        "aux=np.mean(a)\n",
        "print(aux)\n",
        "\n",
        "print(a.mean(axis=1))\n",
        "print(a.mean(axis=0))"
      ],
      "metadata": {
        "colab": {
          "base_uri": "https://localhost:8080/"
        },
        "id": "BH046_yr60mO",
        "outputId": "354bdf1d-32ad-4fb1-b576-24cdc0dff9a4"
      },
      "execution_count": 7,
      "outputs": [
        {
          "output_type": "stream",
          "name": "stdout",
          "text": [
            "[[4 7 1 6 9 6]\n",
            " [9 7 6 5 4 4]\n",
            " [8 9 5 2 4 6]\n",
            " [2 2 3 4 1 5]\n",
            " [0 4 3 3 9 1]\n",
            " [2 2 9 9 0 1]]\n",
            "4.5\n",
            "[5.5        5.83333333 5.66666667 2.83333333 3.33333333 3.83333333]\n",
            "[4.16666667 5.16666667 4.5        4.83333333 4.5        3.83333333]\n"
          ]
        }
      ]
    }
  ]
}