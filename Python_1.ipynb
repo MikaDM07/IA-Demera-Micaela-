{
  "nbformat": 4,
  "nbformat_minor": 0,
  "metadata": {
    "colab": {
      "provenance": [],
      "authorship_tag": "ABX9TyP8OQiQlkZGnf2pPC4zNAL7",
      "include_colab_link": true
    },
    "kernelspec": {
      "name": "python3",
      "display_name": "Python 3"
    },
    "language_info": {
      "name": "python"
    }
  },
  "cells": [
    {
      "cell_type": "markdown",
      "metadata": {
        "id": "view-in-github",
        "colab_type": "text"
      },
      "source": [
        "<a href=\"https://colab.research.google.com/github/MikaDM07/IA-Demera-Micaela-/blob/main/Python_1.ipynb\" target=\"_parent\"><img src=\"https://colab.research.google.com/assets/colab-badge.svg\" alt=\"Open In Colab\"/></a>"
      ]
    },
    {
      "cell_type": "code",
      "execution_count": 2,
      "metadata": {
        "colab": {
          "base_uri": "https://localhost:8080/"
        },
        "id": "YydrmEcqhrq6",
        "outputId": "19add80c-1c05-461d-ffd0-acf36b34dddc"
      },
      "outputs": [
        {
          "output_type": "stream",
          "name": "stdout",
          "text": [
            "Python 3.10.12\n"
          ]
        }
      ],
      "source": [
        "!python --version"
      ]
    },
    {
      "cell_type": "code",
      "source": [
        "miVariable1 = 4"
      ],
      "metadata": {
        "id": "mcoQk6MVinB2"
      },
      "execution_count": 3,
      "outputs": []
    },
    {
      "cell_type": "code",
      "source": [
        "miVariable2 = 6"
      ],
      "metadata": {
        "id": "Y2fWXDCLitxy"
      },
      "execution_count": 9,
      "outputs": []
    },
    {
      "cell_type": "code",
      "source": [
        "print(miVariable1+miVariable2)\n",
        "print(miVariable1-miVariable2)\n",
        "print(miVariable1*miVariable2)\n",
        "print(miVariable1/miVariable2)\n",
        "print(miVariable1^miVariable2)"
      ],
      "metadata": {
        "colab": {
          "base_uri": "https://localhost:8080/"
        },
        "id": "4NmLEfPUi2YB",
        "outputId": "6f57c39f-c1d6-41d6-a210-2c60b347e76f"
      },
      "execution_count": 11,
      "outputs": [
        {
          "output_type": "stream",
          "name": "stdout",
          "text": [
            "10\n",
            "-2\n",
            "24\n",
            "0.6666666666666666\n",
            "2\n"
          ]
        }
      ]
    },
    {
      "cell_type": "code",
      "source": [
        "aux1 = True\n",
        "aux2 = False\n",
        "\n",
        "print(aux1 and aux2)\n",
        "print(aux1 or aux2)\n",
        "print(not aux1)"
      ],
      "metadata": {
        "colab": {
          "base_uri": "https://localhost:8080/"
        },
        "id": "_BEiL5Jpi_0s",
        "outputId": "8215142f-3669-4d45-de39-80488d5971a4"
      },
      "execution_count": 12,
      "outputs": [
        {
          "output_type": "stream",
          "name": "stdout",
          "text": [
            "False\n",
            "True\n",
            "False\n"
          ]
        }
      ]
    },
    {
      "cell_type": "code",
      "source": [
        "presentar = \"Mi nombre es \"\n",
        "nombre = \"Demera Micaela\"\n",
        "edad = \" y tengo 22 años\"\n",
        "print(presentar.lower() , nombre , edad.upper())"
      ],
      "metadata": {
        "colab": {
          "base_uri": "https://localhost:8080/"
        },
        "id": "lsp1VBCSjFWu",
        "outputId": "5cb01d1a-5902-42a0-f353-8daaa6fdcd45"
      },
      "execution_count": 15,
      "outputs": [
        {
          "output_type": "stream",
          "name": "stdout",
          "text": [
            "mi nombre es  Demera Micaela  Y TENGO 22 AÑOS\n"
          ]
        }
      ]
    },
    {
      "cell_type": "code",
      "source": [
        "tmp = 'Micaela, María, Angel, David'\n",
        "print(tmp)\n",
        "print(tmp.split(','))"
      ],
      "metadata": {
        "colab": {
          "base_uri": "https://localhost:8080/"
        },
        "id": "kG_qhKUKjjS1",
        "outputId": "0f4ced27-8354-45ab-9837-13881eea25fc"
      },
      "execution_count": 16,
      "outputs": [
        {
          "output_type": "stream",
          "name": "stdout",
          "text": [
            "Micaela, María, Angel, David\n",
            "['Micaela', ' María', ' Angel', ' David']\n"
          ]
        }
      ]
    },
    {
      "cell_type": "code",
      "source": [
        "from os import remove\n",
        "from pickle import APPEND\n",
        "listaUtiles=['notebook','pen','pencil','eraser','ruler']\n",
        "print(listaUtiles)\n",
        "listaUtiles.append('computer')\n",
        "print(listaUtiles)\n",
        "\n",
        "del listaUtiles[1]\n",
        "print(listaUtiles)"
      ],
      "metadata": {
        "colab": {
          "base_uri": "https://localhost:8080/"
        },
        "id": "EfMfk2u1jvI9",
        "outputId": "08aec0e9-33a7-46ee-c795-67824ed677f9"
      },
      "execution_count": 17,
      "outputs": [
        {
          "output_type": "stream",
          "name": "stdout",
          "text": [
            "['notebook', 'pen', 'pencil', 'eraser', 'ruler']\n",
            "['notebook', 'pen', 'pencil', 'eraser', 'ruler', 'computer']\n",
            "['notebook', 'pencil', 'eraser', 'ruler', 'computer']\n"
          ]
        }
      ]
    },
    {
      "cell_type": "code",
      "source": [
        "lista = ['cuaderno','Lápiz','esfero','borrador']\n",
        "lista.remove('cuaderno')\n",
        "print(lista)"
      ],
      "metadata": {
        "colab": {
          "base_uri": "https://localhost:8080/"
        },
        "id": "-e0yO5bljQ43",
        "outputId": "da0a836d-2b60-4c7f-a44e-a06684d6654b"
      },
      "execution_count": 19,
      "outputs": [
        {
          "output_type": "stream",
          "name": "stdout",
          "text": [
            "['Lápiz', 'esfero', 'borrador']\n"
          ]
        }
      ]
    },
    {
      "cell_type": "code",
      "source": [
        "nuevaLista=list(range(15))\n",
        "print(nuevaLista)\n",
        "print(nuevaLista[4:11])\n",
        "print(nuevaLista[-3])\n",
        "print(nuevaLista[10:5])\n",
        ""
      ],
      "metadata": {
        "colab": {
          "base_uri": "https://localhost:8080/"
        },
        "id": "8FEgaFeFj6hB",
        "outputId": "ab6c81a0-b4dc-458a-d722-7d15a742c1a3"
      },
      "execution_count": 20,
      "outputs": [
        {
          "output_type": "stream",
          "name": "stdout",
          "text": [
            "[0, 1, 2, 3, 4, 5, 6, 7, 8, 9, 10, 11, 12, 13, 14]\n",
            "[4, 5, 6, 7, 8, 9, 10]\n",
            "12\n",
            "[]\n"
          ]
        }
      ]
    }
  ]
}